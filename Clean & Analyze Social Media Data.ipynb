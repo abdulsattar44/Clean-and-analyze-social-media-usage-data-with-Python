{
 "cells": [
  {
   "cell_type": "markdown",
   "id": "5586a4c6-888f-4265-8c35-ca1aa975bb26",
   "metadata": {},
   "source": [
    "## Import required libraries"
   ]
  },
  {
   "cell_type": "code",
   "execution_count": 59,
   "id": "0fe6693a-7551-4c5b-882f-eeed80310355",
   "metadata": {},
   "outputs": [],
   "source": [
    "import pandas as pd\n",
    "import numpy as np\n",
    "import matplotlib.pyplot as plt\n",
    "import seaborn as sns\n",
    "import random as rd"
   ]
  },
  {
   "cell_type": "markdown",
   "id": "0da17459-e74d-4d57-9a76-5a3100cfb4cd",
   "metadata": {},
   "source": [
    "## Generate random data for the social media data"
   ]
  },
  {
   "cell_type": "code",
   "execution_count": 60,
   "id": "fd64a918-a37a-4c55-b0af-52bc6195560c",
   "metadata": {},
   "outputs": [],
   "source": [
    "categories = [ \"Food\", \"Travel\", \"Fashion\", \"Fitness\", \"Music\", \"Culture\", \"Family\", \"Health\"]\n",
    "\n",
    "data = {'Date' : pd.date_range(start = '2021-01-01', periods = 500), \n",
    "        'Categories': [rd.choice(categories) for i  in range(500)], \n",
    "        'Likes':  np.random.randint(0, 10000, size=500) }"
   ]
  },
  {
   "cell_type": "markdown",
   "id": "e6539dfd-d162-46a8-82de-a5df0894d634",
   "metadata": {},
   "source": [
    "## Load the data into a Pandas DataFrame"
   ]
  },
  {
   "cell_type": "code",
   "execution_count": 61,
   "id": "54922705-c948-4a71-a230-3e91d418c0a7",
   "metadata": {},
   "outputs": [],
   "source": [
    "df = pd.DataFrame(data)"
   ]
  },
  {
   "cell_type": "code",
   "execution_count": 62,
   "id": "a18bb689-2182-436b-8ca3-f4d0c95010d5",
   "metadata": {},
   "outputs": [
    {
     "name": "stdout",
     "output_type": "stream",
     "text": [
      "          Date Categories  Likes\n",
      "0   2021-01-01    Fitness    569\n",
      "1   2021-01-02    Culture   7218\n",
      "2   2021-01-03     Health   2599\n",
      "3   2021-01-04     Health   1444\n",
      "4   2021-01-05    Fashion   7222\n",
      "..         ...        ...    ...\n",
      "495 2022-05-11     Health   3054\n",
      "496 2022-05-12    Culture   8418\n",
      "497 2022-05-13       Food   1365\n",
      "498 2022-05-14     Health   3297\n",
      "499 2022-05-15       Food   4693\n",
      "\n",
      "[500 rows x 3 columns]\n"
     ]
    }
   ],
   "source": [
    "print(df)"
   ]
  },
  {
   "cell_type": "markdown",
   "id": "36044d5a-b10e-4b2f-b9e8-8ab3b54f50e1",
   "metadata": {},
   "source": [
    "## Explore the data"
   ]
  },
  {
   "cell_type": "code",
   "execution_count": 63,
   "id": "5590997f-beaf-40a5-b434-cc9941f283c5",
   "metadata": {},
   "outputs": [
    {
     "data": {
      "text/html": [
       "<div>\n",
       "<style scoped>\n",
       "    .dataframe tbody tr th:only-of-type {\n",
       "        vertical-align: middle;\n",
       "    }\n",
       "\n",
       "    .dataframe tbody tr th {\n",
       "        vertical-align: top;\n",
       "    }\n",
       "\n",
       "    .dataframe thead th {\n",
       "        text-align: right;\n",
       "    }\n",
       "</style>\n",
       "<table border=\"1\" class=\"dataframe\">\n",
       "  <thead>\n",
       "    <tr style=\"text-align: right;\">\n",
       "      <th></th>\n",
       "      <th>Date</th>\n",
       "      <th>Categories</th>\n",
       "      <th>Likes</th>\n",
       "    </tr>\n",
       "  </thead>\n",
       "  <tbody>\n",
       "    <tr>\n",
       "      <th>0</th>\n",
       "      <td>2021-01-01</td>\n",
       "      <td>Fitness</td>\n",
       "      <td>569</td>\n",
       "    </tr>\n",
       "    <tr>\n",
       "      <th>1</th>\n",
       "      <td>2021-01-02</td>\n",
       "      <td>Culture</td>\n",
       "      <td>7218</td>\n",
       "    </tr>\n",
       "    <tr>\n",
       "      <th>2</th>\n",
       "      <td>2021-01-03</td>\n",
       "      <td>Health</td>\n",
       "      <td>2599</td>\n",
       "    </tr>\n",
       "    <tr>\n",
       "      <th>3</th>\n",
       "      <td>2021-01-04</td>\n",
       "      <td>Health</td>\n",
       "      <td>1444</td>\n",
       "    </tr>\n",
       "    <tr>\n",
       "      <th>4</th>\n",
       "      <td>2021-01-05</td>\n",
       "      <td>Fashion</td>\n",
       "      <td>7222</td>\n",
       "    </tr>\n",
       "  </tbody>\n",
       "</table>\n",
       "</div>"
      ],
      "text/plain": [
       "        Date Categories  Likes\n",
       "0 2021-01-01    Fitness    569\n",
       "1 2021-01-02    Culture   7218\n",
       "2 2021-01-03     Health   2599\n",
       "3 2021-01-04     Health   1444\n",
       "4 2021-01-05    Fashion   7222"
      ]
     },
     "execution_count": 63,
     "metadata": {},
     "output_type": "execute_result"
    }
   ],
   "source": [
    "df.head()"
   ]
  },
  {
   "cell_type": "code",
   "execution_count": 64,
   "id": "73b7673d-4cd7-48e3-b6dc-2b8c3ed01742",
   "metadata": {},
   "outputs": [
    {
     "data": {
      "text/html": [
       "<div>\n",
       "<style scoped>\n",
       "    .dataframe tbody tr th:only-of-type {\n",
       "        vertical-align: middle;\n",
       "    }\n",
       "\n",
       "    .dataframe tbody tr th {\n",
       "        vertical-align: top;\n",
       "    }\n",
       "\n",
       "    .dataframe thead th {\n",
       "        text-align: right;\n",
       "    }\n",
       "</style>\n",
       "<table border=\"1\" class=\"dataframe\">\n",
       "  <thead>\n",
       "    <tr style=\"text-align: right;\">\n",
       "      <th></th>\n",
       "      <th>Date</th>\n",
       "      <th>Likes</th>\n",
       "    </tr>\n",
       "  </thead>\n",
       "  <tbody>\n",
       "    <tr>\n",
       "      <th>count</th>\n",
       "      <td>500</td>\n",
       "      <td>500.000000</td>\n",
       "    </tr>\n",
       "    <tr>\n",
       "      <th>mean</th>\n",
       "      <td>2021-09-07 12:00:00</td>\n",
       "      <td>4881.258000</td>\n",
       "    </tr>\n",
       "    <tr>\n",
       "      <th>min</th>\n",
       "      <td>2021-01-01 00:00:00</td>\n",
       "      <td>10.000000</td>\n",
       "    </tr>\n",
       "    <tr>\n",
       "      <th>25%</th>\n",
       "      <td>2021-05-05 18:00:00</td>\n",
       "      <td>2324.750000</td>\n",
       "    </tr>\n",
       "    <tr>\n",
       "      <th>50%</th>\n",
       "      <td>2021-09-07 12:00:00</td>\n",
       "      <td>4896.500000</td>\n",
       "    </tr>\n",
       "    <tr>\n",
       "      <th>75%</th>\n",
       "      <td>2022-01-10 06:00:00</td>\n",
       "      <td>7340.500000</td>\n",
       "    </tr>\n",
       "    <tr>\n",
       "      <th>max</th>\n",
       "      <td>2022-05-15 00:00:00</td>\n",
       "      <td>9993.000000</td>\n",
       "    </tr>\n",
       "    <tr>\n",
       "      <th>std</th>\n",
       "      <td>NaN</td>\n",
       "      <td>2877.545108</td>\n",
       "    </tr>\n",
       "  </tbody>\n",
       "</table>\n",
       "</div>"
      ],
      "text/plain": [
       "                      Date        Likes\n",
       "count                  500   500.000000\n",
       "mean   2021-09-07 12:00:00  4881.258000\n",
       "min    2021-01-01 00:00:00    10.000000\n",
       "25%    2021-05-05 18:00:00  2324.750000\n",
       "50%    2021-09-07 12:00:00  4896.500000\n",
       "75%    2022-01-10 06:00:00  7340.500000\n",
       "max    2022-05-15 00:00:00  9993.000000\n",
       "std                    NaN  2877.545108"
      ]
     },
     "execution_count": 64,
     "metadata": {},
     "output_type": "execute_result"
    }
   ],
   "source": [
    "df.describe()"
   ]
  },
  {
   "cell_type": "code",
   "execution_count": 65,
   "id": "e5c6125d-01fa-4107-b04d-83c4190d368e",
   "metadata": {},
   "outputs": [
    {
     "data": {
      "text/plain": [
       "Categories\n",
       "Fashion    79\n",
       "Food       70\n",
       "Family     64\n",
       "Fitness    62\n",
       "Music      61\n",
       "Culture    55\n",
       "Health     55\n",
       "Travel     54\n",
       "Name: count, dtype: int64"
      ]
     },
     "execution_count": 65,
     "metadata": {},
     "output_type": "execute_result"
    }
   ],
   "source": [
    "df.value_counts('Categories')"
   ]
  },
  {
   "cell_type": "code",
   "execution_count": 66,
   "id": "92ae64fb-f715-4373-a4dc-8d66d3ea91e9",
   "metadata": {},
   "outputs": [
    {
     "name": "stdout",
     "output_type": "stream",
     "text": [
      "<class 'pandas.core.frame.DataFrame'>\n",
      "RangeIndex: 500 entries, 0 to 499\n",
      "Data columns (total 3 columns):\n",
      " #   Column      Non-Null Count  Dtype         \n",
      "---  ------      --------------  -----         \n",
      " 0   Date        500 non-null    datetime64[ns]\n",
      " 1   Categories  500 non-null    object        \n",
      " 2   Likes       500 non-null    int32         \n",
      "dtypes: datetime64[ns](1), int32(1), object(1)\n",
      "memory usage: 9.9+ KB\n"
     ]
    }
   ],
   "source": [
    "df.info()"
   ]
  },
  {
   "cell_type": "markdown",
   "id": "e94e8e9b-0f25-4009-85e3-73657eb945dc",
   "metadata": {},
   "source": [
    "## Clean the data"
   ]
  },
  {
   "cell_type": "code",
   "execution_count": 67,
   "id": "b2eec70c-768a-4eb6-a6dc-cb76380d1b5c",
   "metadata": {},
   "outputs": [],
   "source": [
    "# Remove the empty rows\n",
    "new_df = df.dropna(inplace = True)"
   ]
  },
  {
   "cell_type": "code",
   "execution_count": 68,
   "id": "0961231f-f485-47b6-8422-f5d2eea46cf2",
   "metadata": {},
   "outputs": [],
   "source": [
    " # Remove the duplicate rows\n",
    "df.drop_duplicates(inplace = True)"
   ]
  },
  {
   "cell_type": "code",
   "execution_count": 69,
   "id": "0ad4cd07-3acf-453a-befe-a77e3a1157aa",
   "metadata": {},
   "outputs": [],
   "source": [
    "# Convert the 'Date' field to datetime format\n",
    "df['Date'] = pd.to_datetime(df['Date'])\n",
    "\n",
    "# Convert the 'Likes' field to integer\n",
    "df['Likes'] = df['Likes'].astype(int)"
   ]
  },
  {
   "cell_type": "code",
   "execution_count": 70,
   "id": "1950fa22-97ef-4025-97db-6ed150449b90",
   "metadata": {},
   "outputs": [
    {
     "name": "stdout",
     "output_type": "stream",
     "text": [
      "<class 'pandas.core.frame.DataFrame'>\n",
      "RangeIndex: 500 entries, 0 to 499\n",
      "Data columns (total 3 columns):\n",
      " #   Column      Non-Null Count  Dtype         \n",
      "---  ------      --------------  -----         \n",
      " 0   Date        500 non-null    datetime64[ns]\n",
      " 1   Categories  500 non-null    object        \n",
      " 2   Likes       500 non-null    int32         \n",
      "dtypes: datetime64[ns](1), int32(1), object(1)\n",
      "memory usage: 9.9+ KB\n",
      "None\n",
      "          Date Categories  Likes\n",
      "0   2021-01-01    Fitness    569\n",
      "1   2021-01-02    Culture   7218\n",
      "2   2021-01-03     Health   2599\n",
      "3   2021-01-04     Health   1444\n",
      "4   2021-01-05    Fashion   7222\n",
      "..         ...        ...    ...\n",
      "495 2022-05-11     Health   3054\n",
      "496 2022-05-12    Culture   8418\n",
      "497 2022-05-13       Food   1365\n",
      "498 2022-05-14     Health   3297\n",
      "499 2022-05-15       Food   4693\n",
      "\n",
      "[500 rows x 3 columns]\n"
     ]
    }
   ],
   "source": [
    "# Display the updated DataFrame\n",
    "print(df.info())  # Show data types to confirm changes\n",
    "print(df)  # Print DataFrame with converted columns"
   ]
  },
  {
   "cell_type": "markdown",
   "id": "63dbe09b-5ebe-421a-afb4-e757482f377f",
   "metadata": {},
   "source": [
    "## Visualize and Analyze the data"
   ]
  },
  {
   "cell_type": "code",
   "execution_count": 71,
   "id": "24db8fbe-713d-41f9-b084-a0f41e5b2bc3",
   "metadata": {},
   "outputs": [
    {
     "data": {
      "image/png": "[encoded data removed]",
      "text/plain": [
       "<Figure size 640x480 with 1 Axes>"
      ]
     },
     "metadata": {},
     "output_type": "display_data"
    }
   ],
   "source": [
    "# Histogram plot of 'Likes'\n",
    "sns.histplot(df['Likes'], bins=5, kde=True)\n",
    "plt.title('Distribution of Likes')\n",
    "plt.xlabel('Number of Likes')\n",
    "plt.ylabel('Frequency')\n",
    "plt.show()"
   ]
  },
  {
   "cell_type": "code",
   "execution_count": 72,
   "id": "820cfffa-5139-4359-ad07-06cb307355e7",
   "metadata": {},
   "outputs": [
    {
     "data": {
      "image/png": "[encoded data removed]",
      "text/plain": [
       "<Figure size 640x480 with 1 Axes>"
      ]
     },
     "metadata": {},
     "output_type": "display_data"
    }
   ],
   "source": [
    "# Boxplot with 'Category' on x-axis and 'Likes' on y-axis\n",
    "sns.boxplot(x='Categories', y='Likes', data=df)\n",
    "plt.title('Likes by Category')\n",
    "plt.xlabel('Category')\n",
    "plt.ylabel('Number of Likes')\n",
    "plt.show()"
   ]
  },
  {
   "cell_type": "code",
   "execution_count": 73,
   "id": "53392967-ae5b-4ff7-86b4-0ea4e320721e",
   "metadata": {},
   "outputs": [
    {
     "name": "stdout",
     "output_type": "stream",
     "text": [
      "Mean of Likes: 4881.258\n"
     ]
    }
   ],
   "source": [
    "# Calculate and print the mean of 'Likes'\n",
    "mean_likes = df['Likes'].mean()\n",
    "print(f\"Mean of Likes: {mean_likes}\")"
   ]
  },
  {
   "cell_type": "code",
   "execution_count": 74,
   "id": "0268adf4-1929-4b71-91ef-e698ecb5b5a9",
   "metadata": {},
   "outputs": [
    {
     "name": "stdout",
     "output_type": "stream",
     "text": [
      "\n",
      "Mean Likes by Category:\n",
      "Categories\n",
      "Culture    4871.690909\n",
      "Family     4557.734375\n",
      "Fashion    4898.848101\n",
      "Fitness    5050.516129\n",
      "Food       5056.514286\n",
      "Health     4833.872727\n",
      "Music      4556.049180\n",
      "Travel     5242.814815\n",
      "Name: Likes, dtype: float64\n"
     ]
    }
   ],
   "source": [
    "# Group by 'Category' and print the mean of 'Likes'\n",
    "category_mean_likes = df.groupby('Categories')['Likes'].mean()\n",
    "print(\"\\nMean Likes by Category:\")\n",
    "print(category_mean_likes)"
   ]
  },
  {
   "cell_type": "markdown",
   "id": "18cbdd5f-5b01-4861-9c7f-ba3e30c0cd18",
   "metadata": {},
   "source": [
    "# Conclusion and Key Findings\n",
    "\n",
    "Throughout this project, I followed a structured approach to analyze social media data, focusing on the engagement metrics (Likes) across various content categories such as **Food, Travel, Fashion, Fitness, and Music.** My process involved data preparation, visualization, and statistical analysis to derive meaningful insights.\n",
    "\n",
    "## Process Overview\n",
    "\n",
    "### Data Preparation:\n",
    "- Loaded the dataset and converted the **'Date'** field to a proper datetime format to facilitate time-based analysis.\n",
    "- Transformed the **'Likes'** field to integer data type for accurate numerical computations.\n",
    "\n",
    "### Data Visualization:\n",
    "- Used Seaborn's `histplot` to visualize the distribution of Likes, identifying patterns and potential outliers.\n",
    "- Implemented a `boxplot` to analyze the spread of Likes across different content categories.\n",
    "\n",
    "### Statistical Analysis:\n",
    "- Calculated the overall mean of Likes to understand the average engagement.\n",
    "- Leveraged the `groupby` function to find category-specific engagement trends.\n",
    "\n",
    "## Key Findings\n",
    "\n",
    "- The **histogram plot** indicates that the distribution of Likes follows a multimodal pattern, with the majority of posts receiving between **2000 and 8000 Likes.** There is a noticeable peak around the **6000-8000** range, suggesting that a large number of posts achieve moderate engagement levels.\n",
    "\n",
    "- The **boxplot** shows significant variability in Likes across different categories. Categories such as **\"Travel\"** and **\"Health\"** tend to receive a higher median number of Likes, with **\"Travel\"** having a wider interquartile range, suggesting higher engagement but also more variability.\n",
    "\n",
    "- The **\"Food\"** category shows a relatively consistent performance with fewer extreme values compared to other categories, indicating it may be a reliable performer in terms of engagement.\n",
    "\n",
    "- **\"Fashion\"** and **\"Fitness\"** categories exhibit more outliers, indicating that while some posts perform exceptionally well, others may struggle to gain traction.\n"
   ]
  },
  {
   "cell_type": "code",
   "execution_count": null,
   "id": "093e80a0-8934-414a-9485-149e55aa09b1",
   "metadata": {},
   "outputs": [],
   "source": []
  }
 ],
 "metadata": {
  "kernelspec": {
   "display_name": "Python 3 (ipykernel)",
   "language": "python",
   "name": "python3"
  },
  "language_info": {
   "codemirror_mode": {
    "name": "ipython",
    "version": 3
   },
   "file_extension": ".py",
   "mimetype": "text/x-python",
   "name": "python",
   "nbconvert_exporter": "python",
   "pygments_lexer": "ipython3",
   "version": "3.12.1"
  }
 },
 "nbformat": 4,
 "nbformat_minor": 5
}
